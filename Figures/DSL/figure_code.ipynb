{
 "cells": [
  {
   "cell_type": "code",
   "execution_count": 1,
   "metadata": {},
   "outputs": [],
   "source": [
    "import Pkg\n",
    "Pkg.DEFAULT_IO[] = stdout;"
   ]
  },
  {
   "cell_type": "code",
   "execution_count": 2,
   "metadata": {},
   "outputs": [],
   "source": [
    "using Catalyst"
   ]
  },
  {
   "cell_type": "code",
   "execution_count": 3,
   "metadata": {},
   "outputs": [
    {
     "data": {
      "text/latex": [
       "\\begin{align}\n",
       "\\require{mhchem}\n",
       "\\ce{ M + MKK &<=>[k_1][k_{- 1}] C_{M\\_MKK}}\\\\\n",
       "\\ce{ C_{M\\_MKK} &->[k_2] Mp + MKK}\\\\\n",
       "\\ce{ Mp + MKK &<=>[k_3][k_{- 3}] C_{Mp\\_MKK}}\\\\\n",
       "\\ce{ C_{Mp\\_MKK} &->[k_4] Mpp + MKK}\\\\\n",
       "\\ce{ Mpp + MKP &<=>[h_1][h_{- 1}] C_{Mpp\\_MKP}}\\\\\n",
       "\\ce{ C_{Mpp\\_MKP} &->[h_2] Mp + MKP}\\\\\n",
       "\\ce{ Mp + MKP &<=>[h_3][h_{- 3}] C_{Mp\\_MKP}}\\\\\n",
       "\\ce{ C_{Mp\\_MKP} &->[h_4] M + MKP}\n",
       "\\end{align}\n"
      ],
      "text/plain": [
       "\u001b[0m\u001b[1mModel ##ReactionSystem#274\u001b[22m\n",
       "\u001b[0m\u001b[1mStates (9):\u001b[22m\n",
       "  M(t)\n",
       "  MKK(t)\n",
       "  C_M_MKK(t)\n",
       "  Mp(t)\n",
       "  C_Mp_MKK(t)\n",
       "  Mpp(t)\n",
       "⋮\n",
       "\u001b[0m\u001b[1mParameters (12):\u001b[22m\n",
       "  k₁\n",
       "  k₋₁\n",
       "  k₂\n",
       "  k₃\n",
       "  k₋₃\n",
       "  k₄\n",
       "⋮"
      ]
     },
     "execution_count": 3,
     "metadata": {},
     "output_type": "execute_result"
    }
   ],
   "source": [
    "erk_model = @reaction_network begin\n",
    "    (k₁,k₋₁), M + MKK ↔ C_M_MKK\n",
    "    k₂, C_M_MKK → Mp + MKK\n",
    "    (k₃,k₋₃), Mp + MKK ↔ C_Mp_MKK\n",
    "    k₄, C_Mp_MKK → Mpp + MKK\n",
    "    (h₁,h₋₁), Mpp + MKP ↔ C_Mpp_MKP\n",
    "    h₂, C_Mpp_MKP → Mp + MKP\n",
    "    (h₃,h₋₃), Mp + MKP ↔ C_Mp_MKP\n",
    "    h₄, C_Mp_MKP → M + MKP\n",
    "end k₁ k₋₁ k₂ k₃ k₋₃ k₄ h₁ h₋₁ h₂ h₃ h₋₃ h₄"
   ]
  },
  {
   "cell_type": "code",
   "execution_count": null,
   "metadata": {},
   "outputs": [],
   "source": []
  }
 ],
 "metadata": {
  "kernelspec": {
   "display_name": "Julia 1.7.0",
   "language": "julia",
   "name": "julia-1.7"
  },
  "language_info": {
   "file_extension": ".jl",
   "mimetype": "application/julia",
   "name": "julia",
   "version": "1.7.0"
  }
 },
 "nbformat": 4,
 "nbformat_minor": 4
}
