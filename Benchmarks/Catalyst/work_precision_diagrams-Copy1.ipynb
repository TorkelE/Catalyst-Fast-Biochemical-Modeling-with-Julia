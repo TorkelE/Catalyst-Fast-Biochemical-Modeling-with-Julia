{
 "cells": [
  {
   "cell_type": "code",
   "execution_count": 1,
   "metadata": {},
   "outputs": [
    {
     "name": "stderr",
     "output_type": "stream",
     "text": [
      "\u001b[32m\u001b[1m  Activating\u001b[22m\u001b[39m project at `/home/torkel.loman/mount/TeamJL/Torkel/Writings/2022, Catalyst/Catalyst-Fast-Biochemical-Modeling-with-Julia/Benchmarks/Catalyst`\n"
     ]
    }
   ],
   "source": [
    "import Pkg\n",
    "Pkg.activate(\".\")"
   ]
  },
  {
   "cell_type": "code",
   "execution_count": 2,
   "metadata": {},
   "outputs": [
    {
     "name": "stdout",
     "output_type": "stream",
     "text": [
      "Parsing parameters...done\n",
      "Creating parameters...done\n",
      "Parsing species...done\n",
      "Creating species...done\n",
      "Creating species and parameters for evaluating expressions...done\n",
      "Parsing and adding reactions...done\n",
      "Parsing groups...done\n"
     ]
    }
   ],
   "source": [
    "using DiffEqBase, OrdinaryDiffEq, Catalyst, ReactionNetworkImporters,\n",
    "      Sundials, Plots, DiffEqDevTools, ODEInterface, ODEInterfaceDiffEq,\n",
    "      LSODA, TimerOutputs, LinearAlgebra, ModelingToolkit, BenchmarkTools\n",
    "\n",
    "gr()\n",
    "datadir  = joinpath(dirname(pathof(ReactionNetworkImporters)),\"../data/bcr\")\n",
    "const to = TimerOutput()\n",
    "tf       = 100000.0\n",
    "\n",
    "# generate ModelingToolkit ODEs\n",
    "@timeit to \"Parse Network\" prnbng = loadrxnetwork(BNGNetwork(), joinpath(datadir, \"bcr.net\"))\n",
    "rn    = prnbng.rn\n",
    "@timeit to \"Create ODESys\" osys = convert(ODESystem, rn)\n",
    "\n",
    "tspan = (0.,tf)\n",
    "@timeit to \"ODEProb No Jac\" oprob = ODEProblem(osys, Float64[], tspan, Float64[]);"
   ]
  },
  {
   "cell_type": "code",
   "execution_count": 3,
   "metadata": {},
   "outputs": [
    {
     "name": "stdout",
     "output_type": "stream",
     "text": [
      "\u001b[0m\u001b[1m ──────────────────────────────────────────────────────────────────────────────\u001b[22m\n",
      "\u001b[0m\u001b[1m                             \u001b[22m         Time                    Allocations      \n",
      "                             ───────────────────────   ────────────────────────\n",
      "      Tot / % measured:            506s /  98.7%            219GiB /  99.5%    \n",
      "\n",
      " Section             ncalls     time    %tot     avg     alloc    %tot      avg\n",
      " ──────────────────────────────────────────────────────────────────────────────\n",
      " ODEProb SparseJac        1     408s   81.6%    408s    195GiB   89.9%   195GiB\n",
      " ODEProb No Jac           1    48.9s    9.8%   48.9s   11.4GiB    5.2%  11.4GiB\n",
      " Create ODESys            1    27.9s    5.6%   27.9s   7.51GiB    3.5%  7.51GiB\n",
      " Parse Network            1    14.9s    3.0%   14.9s   3.01GiB    1.4%  3.01GiB\n",
      "\u001b[0m\u001b[1m ──────────────────────────────────────────────────────────────────────────────\u001b[22m"
     ]
    }
   ],
   "source": [
    "@timeit to \"ODEProb SparseJac\" sparsejacprob = ODEProblem(osys, Float64[], tspan, Float64[], jac=true, sparse=true)\n",
    "show(to)"
   ]
  },
  {
   "cell_type": "code",
   "execution_count": 4,
   "metadata": {},
   "outputs": [
    {
     "name": "stdout",
     "output_type": "stream",
     "text": [
      "numspecies(rn) = 1122\n",
      "numreactions(rn) = 24388\n",
      "length(parameters(rn)) = 128\n"
     ]
    },
    {
     "data": {
      "text/plain": [
       "128"
      ]
     },
     "execution_count": 4,
     "metadata": {},
     "output_type": "execute_result"
    }
   ],
   "source": [
    "@show numspecies(rn) # Number of ODEs\n",
    "@show numreactions(rn) # Apprx. number of terms in the ODE\n",
    "@show length(parameters(rn)) # Number of Parameters"
   ]
  },
  {
   "cell_type": "code",
   "execution_count": null,
   "metadata": {},
   "outputs": [],
   "source": [
    "u  = ModelingToolkit.varmap_to_vars(nothing, species(rn); defaults=ModelingToolkit.defaults(rn))\n",
    "du = copy(u)\n",
    "p  = ModelingToolkit.varmap_to_vars(nothing, parameters(rn); defaults=ModelingToolkit.defaults(rn))\n",
    "@timeit to \"ODE rhs Eval1\" oprob.f(du,u,p,0.)\n",
    "@timeit to \"ODE rhs Eval2\" oprob.f(du,u,p,0.)\n",
    "sparsejacprob.f(du,u,p,0.)"
   ]
  },
  {
   "cell_type": "code",
   "execution_count": null,
   "metadata": {},
   "outputs": [],
   "source": [
    "@btime oprob.f($du,$u,$p,0.)"
   ]
  },
  {
   "cell_type": "code",
   "execution_count": null,
   "metadata": {},
   "outputs": [],
   "source": [
    "Js = similar(sparsejacprob.f.jac_prototype)\n",
    "@timeit to \"SparseJac Eval1\" sparsejacprob.f.jac(Js,u,p,0.)\n",
    "@timeit to \"SparseJac Eval2\" sparsejacprob.f.jac(Js,u,p,0.)\n",
    "show(to)"
   ]
  },
  {
   "cell_type": "code",
   "execution_count": null,
   "metadata": {},
   "outputs": [],
   "source": [
    "sol = solve(oprob, CVODE_BDF(), saveat=tf/1000., reltol=1e-5, abstol=1e-5)\n",
    "plot(sol, legend=false, fmt=:png)"
   ]
  },
  {
   "cell_type": "code",
   "execution_count": null,
   "metadata": {},
   "outputs": [],
   "source": [
    "@time sol = solve(oprob, CVODE_BDF(), abstol=1/10^12, reltol=1/10^12)\n",
    "test_sol  = TestSolution(sol)"
   ]
  },
  {
   "cell_type": "code",
   "execution_count": null,
   "metadata": {},
   "outputs": [],
   "source": [
    "abstols = 1.0 ./ 10.0 .^ (5:8)\n",
    "reltols = 1.0 ./ 10.0 .^ (5:8);\n",
    "setups = [\n",
    "          #Dict(:alg=>Rosenbrock23(autodiff=false)),\n",
    "          Dict(:alg=>TRBDF2(autodiff=false)),\n",
    "          Dict(:alg=>QNDF(autodiff=false)),\n",
    "          Dict(:alg=>FBDF(autodiff=false)),\n",
    "          Dict(:alg=>CVODE_BDF()),\n",
    "          Dict(:alg=>CVODE_BDF(linear_solver=:LapackDense)),\n",
    "          #Dict(:alg=>rodas()),\n",
    "          #Dict(:alg=>radau()),\n",
    "          #Dict(:alg=>Rodas4(autodiff=false)),\n",
    "          #Dict(:alg=>Rodas5(autodiff=false)),\n",
    "          Dict(:alg=>KenCarp4(autodiff=false)),\n",
    "          Dict(:alg=>KenCarp47(autodiff=false)),\n",
    "          #Dict(:alg=>RadauIIA5(autodiff=false)),\n",
    "          #Dict(:alg=>lsoda()),\n",
    "          ];"
   ]
  },
  {
   "cell_type": "code",
   "execution_count": null,
   "metadata": {},
   "outputs": [],
   "source": [
    "wp = WorkPrecisionSet(oprob,abstols,reltols,setups;error_estimate=:l2,\n",
    "                      saveat=tf/10000.,appxsol=test_sol,maxiters=Int(1e5),numruns=1)\n",
    "plot(wp)"
   ]
  },
  {
   "cell_type": "code",
   "execution_count": null,
   "metadata": {},
   "outputs": [],
   "source": [
    "setups = [\n",
    "          #Dict(:alg=>Rosenbrock23(autodiff=false)),\n",
    "          Dict(:alg=>TRBDF2(autodiff=false)),\n",
    "          Dict(:alg=>QNDF(autodiff=false)),\n",
    "          Dict(:alg=>FBDF(autodiff=false)),\n",
    "          #Dict(:alg=>CVODE_BDF(linear_solver=:KLU)), # Fails!\n",
    "          #Dict(:alg=>rodas()),\n",
    "          #Dict(:alg=>radau()),\n",
    "          #Dict(:alg=>Rodas4(autodiff=false)),\n",
    "          #Dict(:alg=>Rodas5(autodiff=false)),\n",
    "          Dict(:alg=>KenCarp4(autodiff=false)),\n",
    "          Dict(:alg=>KenCarp47(autodiff=false)),\n",
    "          #Dict(:alg=>RadauIIA5(autodiff=false)),\n",
    "          #Dict(:alg=>lsoda()),\n",
    "          ];\n",
    "wp = WorkPrecisionSet(sparsejacprob,abstols,reltols,setups;error_estimate=:l2,\n",
    "                      saveat=tf/10000.,appxsol=test_sol,maxiters=Int(1e5),numruns=1)\n",
    "plot(wp)"
   ]
  },
  {
   "cell_type": "code",
   "execution_count": null,
   "metadata": {},
   "outputs": [],
   "source": []
  },
  {
   "cell_type": "code",
   "execution_count": null,
   "metadata": {},
   "outputs": [],
   "source": []
  },
  {
   "cell_type": "code",
   "execution_count": null,
   "metadata": {},
   "outputs": [],
   "source": []
  },
  {
   "cell_type": "code",
   "execution_count": null,
   "metadata": {},
   "outputs": [],
   "source": []
  }
 ],
 "metadata": {
  "kernelspec": {
   "display_name": "Julia 1.7.3",
   "language": "julia",
   "name": "julia-1.7"
  },
  "language_info": {
   "file_extension": ".jl",
   "mimetype": "application/julia",
   "name": "julia",
   "version": "1.7.3"
  }
 },
 "nbformat": 4,
 "nbformat_minor": 4
}
